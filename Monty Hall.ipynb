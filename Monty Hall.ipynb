{
 "cells": [
  {
   "cell_type": "code",
   "execution_count": 2,
   "id": "9c350df2",
   "metadata": {},
   "outputs": [],
   "source": [
    "import random"
   ]
  },
  {
   "cell_type": "code",
   "execution_count": 16,
   "id": "fac40d1d",
   "metadata": {},
   "outputs": [],
   "source": [
    "from statistics import mean"
   ]
  },
  {
   "cell_type": "code",
   "execution_count": 53,
   "id": "3448206c",
   "metadata": {},
   "outputs": [],
   "source": [
    "n = 100000"
   ]
  },
  {
   "cell_type": "code",
   "execution_count": 54,
   "id": "abf4912f",
   "metadata": {},
   "outputs": [],
   "source": [
    "prizes = ['G','G','C']"
   ]
  },
  {
   "cell_type": "code",
   "execution_count": 55,
   "id": "3bfd57a8",
   "metadata": {},
   "outputs": [],
   "source": [
    "noSwitch = []\n",
    "switch = []"
   ]
  },
  {
   "cell_type": "code",
   "execution_count": null,
   "id": "0b653191",
   "metadata": {},
   "outputs": [],
   "source": [
    "for trial in range(1,n):\n",
    "    doors = random.sample(prizes,3)\n",
    "    if doors[0] == 'C':\n",
    "        noSwitch.append(1)\n",
    "    else:\n",
    "        noSwitch.append(0)\n",
    "    if(doors[1]=='G' and doors[2]=='C')or(doors[2]=='G' and doors[1]=='C'):\n",
    "        switch.append(1)\n",
    "    else:\n",
    "        switch.append(0)"
   ]
  },
  {
   "cell_type": "code",
   "execution_count": 51,
   "id": "cb0bf060",
   "metadata": {},
   "outputs": [
    {
     "data": {
      "text/plain": [
       "0.6613661366136614"
      ]
     },
     "execution_count": 51,
     "metadata": {},
     "output_type": "execute_result"
    }
   ],
   "source": [
    "mean(switch)"
   ]
  },
  {
   "cell_type": "code",
   "execution_count": 52,
   "id": "1be997df",
   "metadata": {},
   "outputs": [
    {
     "data": {
      "text/plain": [
       "0.3386338633863386"
      ]
     },
     "execution_count": 52,
     "metadata": {},
     "output_type": "execute_result"
    }
   ],
   "source": [
    "mean(noSwitch)"
   ]
  },
  {
   "cell_type": "code",
   "execution_count": 34,
   "id": "576b274d",
   "metadata": {},
   "outputs": [
    {
     "data": {
      "text/plain": [
       "['C', 'G', 'G']"
      ]
     },
     "execution_count": 34,
     "metadata": {},
     "output_type": "execute_result"
    }
   ],
   "source": [
    "doors2 = random.sample(prizes,3)\n",
    "doors2"
   ]
  },
  {
   "cell_type": "code",
   "execution_count": null,
   "id": "112908fc",
   "metadata": {},
   "outputs": [],
   "source": []
  }
 ],
 "metadata": {
  "kernelspec": {
   "display_name": "Python 3",
   "language": "python",
   "name": "python3"
  },
  "language_info": {
   "codemirror_mode": {
    "name": "ipython",
    "version": 3
   },
   "file_extension": ".py",
   "mimetype": "text/x-python",
   "name": "python",
   "nbconvert_exporter": "python",
   "pygments_lexer": "ipython3",
   "version": "3.8.8"
  }
 },
 "nbformat": 4,
 "nbformat_minor": 5
}
